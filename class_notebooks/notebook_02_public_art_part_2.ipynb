{
 "cells": [
  {
   "cell_type": "code",
   "execution_count": 2,
   "metadata": {},
   "outputs": [],
   "source": [
    "import pandas as pd\n",
    "import matplotlib.pyplot as plt\n",
    "import seaborn as sns\n",
    "\n",
    "%matplotlib inline"
   ]
  },
  {
   "cell_type": "markdown",
   "metadata": {},
   "source": [
    "### Import and Clean the Data\n",
    "\n",
    "First, we'll repeat the steps that we did in the last notebook to prepare the dataset."
   ]
  },
  {
   "cell_type": "code",
   "execution_count": 3,
   "metadata": {},
   "outputs": [
    {
     "data": {
      "text/html": [
       "<div>\n",
       "<style scoped>\n",
       "    .dataframe tbody tr th:only-of-type {\n",
       "        vertical-align: middle;\n",
       "    }\n",
       "\n",
       "    .dataframe tbody tr th {\n",
       "        vertical-align: top;\n",
       "    }\n",
       "\n",
       "    .dataframe thead th {\n",
       "        text-align: right;\n",
       "    }\n",
       "</style>\n",
       "<table border=\"1\" class=\"dataframe\">\n",
       "  <thead>\n",
       "    <tr style=\"text-align: right;\">\n",
       "      <th></th>\n",
       "      <th>title</th>\n",
       "      <th>last_name</th>\n",
       "      <th>first_name</th>\n",
       "      <th>loc</th>\n",
       "      <th>medium</th>\n",
       "      <th>art_type</th>\n",
       "      <th>desc</th>\n",
       "      <th>lat</th>\n",
       "      <th>lng</th>\n",
       "    </tr>\n",
       "  </thead>\n",
       "  <tbody>\n",
       "    <tr>\n",
       "      <th>0</th>\n",
       "      <td>[Cross Country Runners]</td>\n",
       "      <td>Frost</td>\n",
       "      <td>Miley</td>\n",
       "      <td>4001 Harding Rd., Nashville TN</td>\n",
       "      <td>Bronze</td>\n",
       "      <td>Sculpture</td>\n",
       "      <td>NaN</td>\n",
       "      <td>36.12856</td>\n",
       "      <td>-86.83660</td>\n",
       "    </tr>\n",
       "    <tr>\n",
       "      <th>1</th>\n",
       "      <td>[Fourth and Commerce Sculpture]</td>\n",
       "      <td>Walker</td>\n",
       "      <td>Lin</td>\n",
       "      <td>333 Commerce Street, Nashville TN</td>\n",
       "      <td>NaN</td>\n",
       "      <td>Sculpture</td>\n",
       "      <td>NaN</td>\n",
       "      <td>36.16234</td>\n",
       "      <td>-86.77774</td>\n",
       "    </tr>\n",
       "  </tbody>\n",
       "</table>\n",
       "</div>"
      ],
      "text/plain": [
       "                             title last_name first_name  \\\n",
       "0          [Cross Country Runners]     Frost      Miley   \n",
       "1  [Fourth and Commerce Sculpture]    Walker        Lin   \n",
       "\n",
       "                                 loc  medium   art_type desc       lat  \\\n",
       "0     4001 Harding Rd., Nashville TN  Bronze  Sculpture  NaN  36.12856   \n",
       "1  333 Commerce Street, Nashville TN     NaN  Sculpture  NaN  36.16234   \n",
       "\n",
       "        lng  \n",
       "0 -86.83660  \n",
       "1 -86.77774  "
      ]
     },
     "execution_count": 3,
     "metadata": {},
     "output_type": "execute_result"
    }
   ],
   "source": [
    "art = pd.read_csv('../data/public_art.csv')\n",
    "art = art.drop(columns = ['Mapped Location'])\n",
    "art = art.rename(columns = {\n",
    "    'Title': 'title', \n",
    "    'Last Name': 'last_name', \n",
    "    'First Name': 'first_name',\n",
    "    'Location': 'loc', \n",
    "    'Medium': 'medium',\n",
    "    'Type': 'art_type',\n",
    "    'Description': 'desc', \n",
    "    'Latitude': 'lat', \n",
    "    'Longitude': 'lng'})\n",
    "\n",
    "art.head(2)"
   ]
  },
  {
   "cell_type": "markdown",
   "metadata": {},
   "source": [
    "### More exploration with pandas\n",
    " - .value_counts()\n",
    " - .reset_index()\n",
    " - .describe()\n",
    " - .info()\n",
    " - .isnull().sum()"
   ]
  },
  {
   "cell_type": "markdown",
   "metadata": {},
   "source": [
    "Recall that `value_counts( )` tallies the number of each value for a column; here we look at the art_type column."
   ]
  },
  {
   "cell_type": "code",
   "execution_count": 4,
   "metadata": {},
   "outputs": [
    {
     "data": {
      "text/plain": [
       "Sculpture             61\n",
       "Mural                 38\n",
       "Monument              16\n",
       "Frieze                 2\n",
       "Mobile                 2\n",
       "Mosaic                 2\n",
       "Various                2\n",
       "Furniture              1\n",
       "Relief                 1\n",
       "Stained Glass          1\n",
       "Bronzes                1\n",
       "Sculpture/Fountain     1\n",
       "Street Art             1\n",
       "mural                  1\n",
       "Fountain               1\n",
       "Multipart              1\n",
       "Name: art_type, dtype: int64"
      ]
     },
     "execution_count": 4,
     "metadata": {},
     "output_type": "execute_result"
    }
   ],
   "source": [
    "art['art_type'].value_counts()"
   ]
  },
  {
   "cell_type": "markdown",
   "metadata": {},
   "source": [
    "Let's save it into a variable and check what type of object it is."
   ]
  },
  {
   "cell_type": "code",
   "execution_count": 5,
   "metadata": {},
   "outputs": [
    {
     "data": {
      "text/plain": [
       "Sculpture    61\n",
       "Mural        38\n",
       "Monument     16\n",
       "Frieze        2\n",
       "Mobile        2\n",
       "Name: art_type, dtype: int64"
      ]
     },
     "execution_count": 5,
     "metadata": {},
     "output_type": "execute_result"
    }
   ],
   "source": [
    "type_counts = art['art_type'].value_counts()\n",
    "type_counts.head()"
   ]
  },
  {
   "cell_type": "markdown",
   "metadata": {},
   "source": [
    "Let's check to see what `type_counts` is. Is it a DataFrame?"
   ]
  },
  {
   "cell_type": "code",
   "execution_count": 6,
   "metadata": {},
   "outputs": [
    {
     "data": {
      "text/plain": [
       "pandas.core.series.Series"
      ]
     },
     "execution_count": 6,
     "metadata": {},
     "output_type": "execute_result"
    }
   ],
   "source": [
    "type(type_counts)"
   ]
  },
  {
   "cell_type": "markdown",
   "metadata": {},
   "source": [
    "If you look at the head, you'll notice that the art type is now the index value for the Series"
   ]
  },
  {
   "cell_type": "code",
   "execution_count": 7,
   "metadata": {},
   "outputs": [
    {
     "data": {
      "text/plain": [
       "Sculpture    61\n",
       "Mural        38\n",
       "Name: art_type, dtype: int64"
      ]
     },
     "execution_count": 7,
     "metadata": {},
     "output_type": "execute_result"
    }
   ],
   "source": [
    "type_counts.head(2)"
   ]
  },
  {
   "cell_type": "code",
   "execution_count": 8,
   "metadata": {},
   "outputs": [
    {
     "data": {
      "text/plain": [
       "Index(['Sculpture', 'Mural', 'Monument', 'Frieze', 'Mobile', 'Mosaic',\n",
       "       'Various', 'Furniture', 'Relief', 'Stained Glass', 'Bronzes',\n",
       "       'Sculpture/Fountain', 'Street Art', 'mural', 'Fountain', 'Multipart'],\n",
       "      dtype='object')"
      ]
     },
     "execution_count": 8,
     "metadata": {},
     "output_type": "execute_result"
    }
   ],
   "source": [
    "type_counts.index"
   ]
  },
  {
   "cell_type": "markdown",
   "metadata": {},
   "source": [
    "You can move the index value to a column (converting the series to a DataFrame in the process) with the `reset_index()` method."
   ]
  },
  {
   "cell_type": "code",
   "execution_count": 10,
   "metadata": {},
   "outputs": [
    {
     "data": {
      "text/html": [
       "<div>\n",
       "<style scoped>\n",
       "    .dataframe tbody tr th:only-of-type {\n",
       "        vertical-align: middle;\n",
       "    }\n",
       "\n",
       "    .dataframe tbody tr th {\n",
       "        vertical-align: top;\n",
       "    }\n",
       "\n",
       "    .dataframe thead th {\n",
       "        text-align: right;\n",
       "    }\n",
       "</style>\n",
       "<table border=\"1\" class=\"dataframe\">\n",
       "  <thead>\n",
       "    <tr style=\"text-align: right;\">\n",
       "      <th></th>\n",
       "      <th>index</th>\n",
       "      <th>art_type</th>\n",
       "    </tr>\n",
       "  </thead>\n",
       "  <tbody>\n",
       "    <tr>\n",
       "      <th>0</th>\n",
       "      <td>Sculpture</td>\n",
       "      <td>61</td>\n",
       "    </tr>\n",
       "    <tr>\n",
       "      <th>1</th>\n",
       "      <td>Mural</td>\n",
       "      <td>38</td>\n",
       "    </tr>\n",
       "    <tr>\n",
       "      <th>2</th>\n",
       "      <td>Monument</td>\n",
       "      <td>16</td>\n",
       "    </tr>\n",
       "    <tr>\n",
       "      <th>3</th>\n",
       "      <td>Frieze</td>\n",
       "      <td>2</td>\n",
       "    </tr>\n",
       "    <tr>\n",
       "      <th>4</th>\n",
       "      <td>Mobile</td>\n",
       "      <td>2</td>\n",
       "    </tr>\n",
       "    <tr>\n",
       "      <th>5</th>\n",
       "      <td>Mosaic</td>\n",
       "      <td>2</td>\n",
       "    </tr>\n",
       "    <tr>\n",
       "      <th>6</th>\n",
       "      <td>Various</td>\n",
       "      <td>2</td>\n",
       "    </tr>\n",
       "    <tr>\n",
       "      <th>7</th>\n",
       "      <td>Furniture</td>\n",
       "      <td>1</td>\n",
       "    </tr>\n",
       "    <tr>\n",
       "      <th>8</th>\n",
       "      <td>Relief</td>\n",
       "      <td>1</td>\n",
       "    </tr>\n",
       "    <tr>\n",
       "      <th>9</th>\n",
       "      <td>Stained Glass</td>\n",
       "      <td>1</td>\n",
       "    </tr>\n",
       "    <tr>\n",
       "      <th>10</th>\n",
       "      <td>Bronzes</td>\n",
       "      <td>1</td>\n",
       "    </tr>\n",
       "    <tr>\n",
       "      <th>11</th>\n",
       "      <td>Sculpture/Fountain</td>\n",
       "      <td>1</td>\n",
       "    </tr>\n",
       "    <tr>\n",
       "      <th>12</th>\n",
       "      <td>Street Art</td>\n",
       "      <td>1</td>\n",
       "    </tr>\n",
       "    <tr>\n",
       "      <th>13</th>\n",
       "      <td>mural</td>\n",
       "      <td>1</td>\n",
       "    </tr>\n",
       "    <tr>\n",
       "      <th>14</th>\n",
       "      <td>Fountain</td>\n",
       "      <td>1</td>\n",
       "    </tr>\n",
       "    <tr>\n",
       "      <th>15</th>\n",
       "      <td>Multipart</td>\n",
       "      <td>1</td>\n",
       "    </tr>\n",
       "  </tbody>\n",
       "</table>\n",
       "</div>"
      ],
      "text/plain": [
       "                 index  art_type\n",
       "0            Sculpture        61\n",
       "1                Mural        38\n",
       "2             Monument        16\n",
       "3               Frieze         2\n",
       "4               Mobile         2\n",
       "5               Mosaic         2\n",
       "6              Various         2\n",
       "7            Furniture         1\n",
       "8               Relief         1\n",
       "9        Stained Glass         1\n",
       "10             Bronzes         1\n",
       "11  Sculpture/Fountain         1\n",
       "12          Street Art         1\n",
       "13               mural         1\n",
       "14            Fountain         1\n",
       "15           Multipart         1"
      ]
     },
     "execution_count": 10,
     "metadata": {},
     "output_type": "execute_result"
    }
   ],
   "source": [
    "#reset index resets to 0-based index and moves existing index to a column\n",
    "type_counts = type_counts.reset_index()\n",
    "type_counts"
   ]
  },
  {
   "cell_type": "markdown",
   "metadata": {},
   "source": [
    "Now check the type again and look at the head"
   ]
  },
  {
   "cell_type": "code",
   "execution_count": 11,
   "metadata": {},
   "outputs": [
    {
     "data": {
      "text/plain": [
       "pandas.core.frame.DataFrame"
      ]
     },
     "execution_count": 11,
     "metadata": {},
     "output_type": "execute_result"
    }
   ],
   "source": [
    "type(type_counts)"
   ]
  },
  {
   "cell_type": "code",
   "execution_count": 12,
   "metadata": {},
   "outputs": [
    {
     "data": {
      "text/html": [
       "<div>\n",
       "<style scoped>\n",
       "    .dataframe tbody tr th:only-of-type {\n",
       "        vertical-align: middle;\n",
       "    }\n",
       "\n",
       "    .dataframe tbody tr th {\n",
       "        vertical-align: top;\n",
       "    }\n",
       "\n",
       "    .dataframe thead th {\n",
       "        text-align: right;\n",
       "    }\n",
       "</style>\n",
       "<table border=\"1\" class=\"dataframe\">\n",
       "  <thead>\n",
       "    <tr style=\"text-align: right;\">\n",
       "      <th></th>\n",
       "      <th>index</th>\n",
       "      <th>art_type</th>\n",
       "    </tr>\n",
       "  </thead>\n",
       "  <tbody>\n",
       "    <tr>\n",
       "      <th>0</th>\n",
       "      <td>Sculpture</td>\n",
       "      <td>61</td>\n",
       "    </tr>\n",
       "    <tr>\n",
       "      <th>1</th>\n",
       "      <td>Mural</td>\n",
       "      <td>38</td>\n",
       "    </tr>\n",
       "  </tbody>\n",
       "</table>\n",
       "</div>"
      ],
      "text/plain": [
       "       index  art_type\n",
       "0  Sculpture        61\n",
       "1      Mural        38"
      ]
     },
     "execution_count": 12,
     "metadata": {},
     "output_type": "execute_result"
    }
   ],
   "source": [
    "type_counts.head(2)"
   ]
  },
  {
   "cell_type": "markdown",
   "metadata": {},
   "source": [
    "Now you can rename the columns to something more reasonable."
   ]
  },
  {
   "cell_type": "code",
   "execution_count": 13,
   "metadata": {},
   "outputs": [
    {
     "data": {
      "text/html": [
       "<div>\n",
       "<style scoped>\n",
       "    .dataframe tbody tr th:only-of-type {\n",
       "        vertical-align: middle;\n",
       "    }\n",
       "\n",
       "    .dataframe tbody tr th {\n",
       "        vertical-align: top;\n",
       "    }\n",
       "\n",
       "    .dataframe thead th {\n",
       "        text-align: right;\n",
       "    }\n",
       "</style>\n",
       "<table border=\"1\" class=\"dataframe\">\n",
       "  <thead>\n",
       "    <tr style=\"text-align: right;\">\n",
       "      <th></th>\n",
       "      <th>art_type</th>\n",
       "      <th>number</th>\n",
       "    </tr>\n",
       "  </thead>\n",
       "  <tbody>\n",
       "    <tr>\n",
       "      <th>0</th>\n",
       "      <td>Sculpture</td>\n",
       "      <td>61</td>\n",
       "    </tr>\n",
       "    <tr>\n",
       "      <th>1</th>\n",
       "      <td>Mural</td>\n",
       "      <td>38</td>\n",
       "    </tr>\n",
       "    <tr>\n",
       "      <th>2</th>\n",
       "      <td>Monument</td>\n",
       "      <td>16</td>\n",
       "    </tr>\n",
       "  </tbody>\n",
       "</table>\n",
       "</div>"
      ],
      "text/plain": [
       "    art_type  number\n",
       "0  Sculpture      61\n",
       "1      Mural      38\n",
       "2   Monument      16"
      ]
     },
     "execution_count": 13,
     "metadata": {},
     "output_type": "execute_result"
    }
   ],
   "source": [
    "type_counts.columns = ['art_type', 'number']\n",
    "type_counts.head(3)"
   ]
  },
  {
   "cell_type": "markdown",
   "metadata": {},
   "source": [
    "The `.info( )` method gets lots more information about the dataset: \n",
    " - number of rows\n",
    " - types for each column\n",
    " - size in memory\n",
    " - missingness"
   ]
  },
  {
   "cell_type": "code",
   "execution_count": 14,
   "metadata": {},
   "outputs": [
    {
     "name": "stdout",
     "output_type": "stream",
     "text": [
      "<class 'pandas.core.frame.DataFrame'>\n",
      "RangeIndex: 132 entries, 0 to 131\n",
      "Data columns (total 9 columns):\n",
      " #   Column      Non-Null Count  Dtype  \n",
      "---  ------      --------------  -----  \n",
      " 0   title       132 non-null    object \n",
      " 1   last_name   132 non-null    object \n",
      " 2   first_name  122 non-null    object \n",
      " 3   loc         131 non-null    object \n",
      " 4   medium      128 non-null    object \n",
      " 5   art_type    132 non-null    object \n",
      " 6   desc        87 non-null     object \n",
      " 7   lat         132 non-null    float64\n",
      " 8   lng         132 non-null    float64\n",
      "dtypes: float64(2), object(7)\n",
      "memory usage: 9.4+ KB\n"
     ]
    }
   ],
   "source": [
    "art.info()"
   ]
  },
  {
   "cell_type": "markdown",
   "metadata": {},
   "source": [
    "If you want to explore the missing values, the `.isna()` method can be useful. It returns a _Boolean_ (True/False) value indicating whether a particular value is missing (NA)."
   ]
  },
  {
   "cell_type": "code",
   "execution_count": 15,
   "metadata": {},
   "outputs": [
    {
     "data": {
      "text/plain": [
       "0      False\n",
       "1      False\n",
       "2      False\n",
       "3      False\n",
       "4      False\n",
       "       ...  \n",
       "127     True\n",
       "128    False\n",
       "129    False\n",
       "130    False\n",
       "131    False\n",
       "Name: first_name, Length: 132, dtype: bool"
      ]
     },
     "execution_count": 15,
     "metadata": {},
     "output_type": "execute_result"
    }
   ],
   "source": [
    "art['first_name'].isna()"
   ]
  },
  {
   "cell_type": "markdown",
   "metadata": {},
   "source": [
    "For example, we can use this in combination with `.loc` to find rows there the first name is missing."
   ]
  },
  {
   "cell_type": "code",
   "execution_count": 16,
   "metadata": {},
   "outputs": [
    {
     "data": {
      "text/html": [
       "<div>\n",
       "<style scoped>\n",
       "    .dataframe tbody tr th:only-of-type {\n",
       "        vertical-align: middle;\n",
       "    }\n",
       "\n",
       "    .dataframe tbody tr th {\n",
       "        vertical-align: top;\n",
       "    }\n",
       "\n",
       "    .dataframe thead th {\n",
       "        text-align: right;\n",
       "    }\n",
       "</style>\n",
       "<table border=\"1\" class=\"dataframe\">\n",
       "  <thead>\n",
       "    <tr style=\"text-align: right;\">\n",
       "      <th></th>\n",
       "      <th>title</th>\n",
       "      <th>last_name</th>\n",
       "      <th>first_name</th>\n",
       "      <th>loc</th>\n",
       "      <th>medium</th>\n",
       "      <th>art_type</th>\n",
       "      <th>desc</th>\n",
       "      <th>lat</th>\n",
       "      <th>lng</th>\n",
       "    </tr>\n",
       "  </thead>\n",
       "  <tbody>\n",
       "    <tr>\n",
       "      <th>30</th>\n",
       "      <td>Eastside Mural</td>\n",
       "      <td>Sterling Goller-Brown.  Ian Lawrence</td>\n",
       "      <td>NaN</td>\n",
       "      <td>1008 Forrest Ave</td>\n",
       "      <td>Spray Paint</td>\n",
       "      <td>Mural</td>\n",
       "      <td>NaN</td>\n",
       "      <td>36.178323</td>\n",
       "      <td>-86.750240</td>\n",
       "    </tr>\n",
       "    <tr>\n",
       "      <th>54</th>\n",
       "      <td>Johnny Cash Mural</td>\n",
       "      <td>Bryan Deese, Audie Adams, Ryan Shrader</td>\n",
       "      <td>NaN</td>\n",
       "      <td>300 4th Avenue</td>\n",
       "      <td>Latex paint and spray paint</td>\n",
       "      <td>Mural</td>\n",
       "      <td>Classic street art by Thoughts Manifested crew...</td>\n",
       "      <td>36.158301</td>\n",
       "      <td>-86.774955</td>\n",
       "    </tr>\n",
       "    <tr>\n",
       "      <th>63</th>\n",
       "      <td>Maybelle Carter</td>\n",
       "      <td>Brian Law / Jenna Colt</td>\n",
       "      <td>NaN</td>\n",
       "      <td>625 8th Ave S.</td>\n",
       "      <td>acrylic</td>\n",
       "      <td>Mural</td>\n",
       "      <td>NaN</td>\n",
       "      <td>36.150892</td>\n",
       "      <td>-86.779582</td>\n",
       "    </tr>\n",
       "    <tr>\n",
       "      <th>69</th>\n",
       "      <td>Our Past, Your Future</td>\n",
       "      <td>Sterling Goller-Brown.  Ian Lawrence</td>\n",
       "      <td>NaN</td>\n",
       "      <td>1524 Gallatin Ave</td>\n",
       "      <td>Spray Paint</td>\n",
       "      <td>Mural</td>\n",
       "      <td>NaN</td>\n",
       "      <td>36.194354</td>\n",
       "      <td>-86.743985</td>\n",
       "    </tr>\n",
       "    <tr>\n",
       "      <th>82</th>\n",
       "      <td>Rose on 65th Street</td>\n",
       "      <td>Will Ryman</td>\n",
       "      <td>NaN</td>\n",
       "      <td>919 Broadway</td>\n",
       "      <td>Fiberglass resin and stainless steel</td>\n",
       "      <td>Sculpture</td>\n",
       "      <td>Colossal roses painted in bright colors with g...</td>\n",
       "      <td>36.157631</td>\n",
       "      <td>-86.783767</td>\n",
       "    </tr>\n",
       "    <tr>\n",
       "      <th>103</th>\n",
       "      <td>Tennessee WWII Memorial</td>\n",
       "      <td>Tuck-Hinton</td>\n",
       "      <td>NaN</td>\n",
       "      <td>600 James Robertson Pkwy, Nashville TN</td>\n",
       "      <td>Granite globe floating on 1/8 inch of water</td>\n",
       "      <td>Monument</td>\n",
       "      <td>Memorial commemorates Tennessee soldiers servi...</td>\n",
       "      <td>36.172020</td>\n",
       "      <td>-86.788640</td>\n",
       "    </tr>\n",
       "    <tr>\n",
       "      <th>116</th>\n",
       "      <td>Tomatoes</td>\n",
       "      <td>Sterling Goller-Brown and Ian Lawrence, co-cre...</td>\n",
       "      <td>NaN</td>\n",
       "      <td>701 Porter Rd at Eastland Ave</td>\n",
       "      <td>paint on brick</td>\n",
       "      <td>Mural</td>\n",
       "      <td>Tomatoes</td>\n",
       "      <td>36.182437</td>\n",
       "      <td>-86.733449</td>\n",
       "    </tr>\n",
       "    <tr>\n",
       "      <th>118</th>\n",
       "      <td>Two Musicians</td>\n",
       "      <td>Sterling Goller-Brown.  Ian Lawrence</td>\n",
       "      <td>NaN</td>\n",
       "      <td>1008 Forrest Ave</td>\n",
       "      <td>Spray Paint</td>\n",
       "      <td>Mural</td>\n",
       "      <td>NaN</td>\n",
       "      <td>36.178323</td>\n",
       "      <td>-86.750240</td>\n",
       "    </tr>\n",
       "    <tr>\n",
       "      <th>125</th>\n",
       "      <td>Warner Monument</td>\n",
       "      <td>White &amp; Son</td>\n",
       "      <td>NaN</td>\n",
       "      <td>1101 Lebanon Pike, Nashville TN</td>\n",
       "      <td>Sculpture: marble; sub base: marble; Bottom ba...</td>\n",
       "      <td>Monument</td>\n",
       "      <td>NaN</td>\n",
       "      <td>36.148830</td>\n",
       "      <td>-86.732390</td>\n",
       "    </tr>\n",
       "    <tr>\n",
       "      <th>127</th>\n",
       "      <td>We Are Our Stories</td>\n",
       "      <td>Omari Booker &amp; The REAL Program at Oasis Center</td>\n",
       "      <td>NaN</td>\n",
       "      <td>1037 28th Avenue North</td>\n",
       "      <td>acrylic &amp; spray paint on plywood</td>\n",
       "      <td>Mural</td>\n",
       "      <td>\"We Are Our Stories\" is a public art project t...</td>\n",
       "      <td>36.165101</td>\n",
       "      <td>-86.822209</td>\n",
       "    </tr>\n",
       "  </tbody>\n",
       "</table>\n",
       "</div>"
      ],
      "text/plain": [
       "                       title  \\\n",
       "30            Eastside Mural   \n",
       "54         Johnny Cash Mural   \n",
       "63           Maybelle Carter   \n",
       "69     Our Past, Your Future   \n",
       "82       Rose on 65th Street   \n",
       "103  Tennessee WWII Memorial   \n",
       "116                 Tomatoes   \n",
       "118            Two Musicians   \n",
       "125          Warner Monument   \n",
       "127       We Are Our Stories   \n",
       "\n",
       "                                             last_name first_name  \\\n",
       "30                Sterling Goller-Brown.  Ian Lawrence        NaN   \n",
       "54              Bryan Deese, Audie Adams, Ryan Shrader        NaN   \n",
       "63                              Brian Law / Jenna Colt        NaN   \n",
       "69                Sterling Goller-Brown.  Ian Lawrence        NaN   \n",
       "82                                          Will Ryman        NaN   \n",
       "103                                        Tuck-Hinton        NaN   \n",
       "116  Sterling Goller-Brown and Ian Lawrence, co-cre...        NaN   \n",
       "118               Sterling Goller-Brown.  Ian Lawrence        NaN   \n",
       "125                                        White & Son        NaN   \n",
       "127    Omari Booker & The REAL Program at Oasis Center        NaN   \n",
       "\n",
       "                                        loc  \\\n",
       "30                         1008 Forrest Ave   \n",
       "54                           300 4th Avenue   \n",
       "63                           625 8th Ave S.   \n",
       "69                        1524 Gallatin Ave   \n",
       "82                             919 Broadway   \n",
       "103  600 James Robertson Pkwy, Nashville TN   \n",
       "116           701 Porter Rd at Eastland Ave   \n",
       "118                        1008 Forrest Ave   \n",
       "125         1101 Lebanon Pike, Nashville TN   \n",
       "127                  1037 28th Avenue North   \n",
       "\n",
       "                                                medium   art_type  \\\n",
       "30                                         Spray Paint      Mural   \n",
       "54                         Latex paint and spray paint      Mural   \n",
       "63                                             acrylic      Mural   \n",
       "69                                         Spray Paint      Mural   \n",
       "82                Fiberglass resin and stainless steel  Sculpture   \n",
       "103        Granite globe floating on 1/8 inch of water   Monument   \n",
       "116                                     paint on brick      Mural   \n",
       "118                                        Spray Paint      Mural   \n",
       "125  Sculpture: marble; sub base: marble; Bottom ba...   Monument   \n",
       "127                   acrylic & spray paint on plywood      Mural   \n",
       "\n",
       "                                                  desc        lat        lng  \n",
       "30                                                 NaN  36.178323 -86.750240  \n",
       "54   Classic street art by Thoughts Manifested crew...  36.158301 -86.774955  \n",
       "63                                                 NaN  36.150892 -86.779582  \n",
       "69                                                 NaN  36.194354 -86.743985  \n",
       "82   Colossal roses painted in bright colors with g...  36.157631 -86.783767  \n",
       "103  Memorial commemorates Tennessee soldiers servi...  36.172020 -86.788640  \n",
       "116                                           Tomatoes  36.182437 -86.733449  \n",
       "118                                                NaN  36.178323 -86.750240  \n",
       "125                                                NaN  36.148830 -86.732390  \n",
       "127  \"We Are Our Stories\" is a public art project t...  36.165101 -86.822209  "
      ]
     },
     "execution_count": 16,
     "metadata": {},
     "output_type": "execute_result"
    }
   ],
   "source": [
    "art.loc[art['first_name'].isna()]"
   ]
  },
  {
   "cell_type": "markdown",
   "metadata": {},
   "source": [
    "You can also check the number of null values by chaining the `isna( )` and `sum( )` methods together.\n",
    "\n",
    "The reason this works is that Python will treat True as 1 and False as 0 when doing arithmetic on Booleans."
   ]
  },
  {
   "cell_type": "code",
   "execution_count": 17,
   "metadata": {},
   "outputs": [
    {
     "data": {
      "text/plain": [
       "title          0\n",
       "last_name      0\n",
       "first_name    10\n",
       "loc            1\n",
       "medium         4\n",
       "art_type       0\n",
       "desc          45\n",
       "lat            0\n",
       "lng            0\n",
       "dtype: int64"
      ]
     },
     "execution_count": 17,
     "metadata": {},
     "output_type": "execute_result"
    }
   ],
   "source": [
    "art.isna().sum()"
   ]
  },
  {
   "cell_type": "markdown",
   "metadata": {},
   "source": [
    "For quantitative (numeric) variables, the `.describe( )` method gives statistical information:\n",
    "- count\n",
    "- mean\n",
    "- standard deviation\n",
    "- minimum\n",
    "- maximum\n",
    "- quartiles\n"
   ]
  },
  {
   "cell_type": "code",
   "execution_count": 18,
   "metadata": {},
   "outputs": [
    {
     "data": {
      "text/plain": [
       "count    16.000000\n",
       "mean      8.250000\n",
       "std      17.043083\n",
       "min       1.000000\n",
       "25%       1.000000\n",
       "50%       1.000000\n",
       "75%       2.000000\n",
       "max      61.000000\n",
       "Name: number, dtype: float64"
      ]
     },
     "execution_count": 18,
     "metadata": {},
     "output_type": "execute_result"
    }
   ],
   "source": [
    "type_counts['number'].describe()"
   ]
  },
  {
   "cell_type": "markdown",
   "metadata": {},
   "source": [
    "## Plotting Data\n",
    "\n",
    "Visualizing data can sometimes make it easier to derive insights. Let's revisit our `type_counts` DataFrame and see how we can create a plot out of it."
   ]
  },
  {
   "cell_type": "code",
   "execution_count": 19,
   "metadata": {},
   "outputs": [
    {
     "data": {
      "text/html": [
       "<div>\n",
       "<style scoped>\n",
       "    .dataframe tbody tr th:only-of-type {\n",
       "        vertical-align: middle;\n",
       "    }\n",
       "\n",
       "    .dataframe tbody tr th {\n",
       "        vertical-align: top;\n",
       "    }\n",
       "\n",
       "    .dataframe thead th {\n",
       "        text-align: right;\n",
       "    }\n",
       "</style>\n",
       "<table border=\"1\" class=\"dataframe\">\n",
       "  <thead>\n",
       "    <tr style=\"text-align: right;\">\n",
       "      <th></th>\n",
       "      <th>art_type</th>\n",
       "      <th>number</th>\n",
       "    </tr>\n",
       "  </thead>\n",
       "  <tbody>\n",
       "    <tr>\n",
       "      <th>0</th>\n",
       "      <td>Sculpture</td>\n",
       "      <td>61</td>\n",
       "    </tr>\n",
       "    <tr>\n",
       "      <th>1</th>\n",
       "      <td>Mural</td>\n",
       "      <td>38</td>\n",
       "    </tr>\n",
       "    <tr>\n",
       "      <th>2</th>\n",
       "      <td>Monument</td>\n",
       "      <td>16</td>\n",
       "    </tr>\n",
       "    <tr>\n",
       "      <th>3</th>\n",
       "      <td>Frieze</td>\n",
       "      <td>2</td>\n",
       "    </tr>\n",
       "    <tr>\n",
       "      <th>4</th>\n",
       "      <td>Mobile</td>\n",
       "      <td>2</td>\n",
       "    </tr>\n",
       "  </tbody>\n",
       "</table>\n",
       "</div>"
      ],
      "text/plain": [
       "    art_type  number\n",
       "0  Sculpture      61\n",
       "1      Mural      38\n",
       "2   Monument      16\n",
       "3     Frieze       2\n",
       "4     Mobile       2"
      ]
     },
     "execution_count": 19,
     "metadata": {},
     "output_type": "execute_result"
    }
   ],
   "source": [
    "type_counts.head()"
   ]
  },
  {
   "cell_type": "markdown",
   "metadata": {},
   "source": [
    "We can start by making a basic bar chart using the `.plot` method."
   ]
  },
  {
   "cell_type": "code",
   "execution_count": 20,
   "metadata": {},
   "outputs": [
    {
     "data": {
      "image/png": "[encoded data removed]",
      "text/plain": [
       "<Figure size 432x288 with 1 Axes>"
      ]
     },
     "metadata": {
      "needs_background": "light"
     },
     "output_type": "display_data"
    }
   ],
   "source": [
    "type_counts.plot(kind = 'bar', \n",
    "                 x = 'art_type', \n",
    "                 y = 'number');"
   ]
  },
  {
   "cell_type": "markdown",
   "metadata": {},
   "source": [
    "If you have a large number of categories or long category names, it sometimes makes sense to do a horizontal bar chart."
   ]
  },
  {
   "cell_type": "code",
   "execution_count": 21,
   "metadata": {},
   "outputs": [
    {
     "data": {
      "image/png": "[encoded data removed]",
      "text/plain": [
       "<Figure size 432x288 with 1 Axes>"
      ]
     },
     "metadata": {
      "needs_background": "light"
     },
     "output_type": "display_data"
    }
   ],
   "source": [
    "type_counts.plot(kind = 'barh', \n",
    "                 x = 'art_type', \n",
    "                 y = 'number');"
   ]
  },
  {
   "cell_type": "markdown",
   "metadata": {},
   "source": [
    "If we want to plot the data with the largest values on top, we can use the `sort_values` method to sort our DataFrame before plotting."
   ]
  },
  {
   "cell_type": "code",
   "execution_count": 22,
   "metadata": {},
   "outputs": [
    {
     "data": {
      "image/png": "[encoded data removed]",
      "text/plain": [
       "<Figure size 432x288 with 1 Axes>"
      ]
     },
     "metadata": {
      "needs_background": "light"
     },
     "output_type": "display_data"
    }
   ],
   "source": [
    "type_counts.sort_values('number').plot(kind = 'barh', \n",
    "                 x = 'art_type', \n",
    "                 y = 'number');"
   ]
  },
  {
   "cell_type": "markdown",
   "metadata": {},
   "source": [
    "### Fancier horizontal barplot with seaborn\n",
    "\n",
    "We can make a nicer looking plot using the _seaborn_ library. You can check out the seaborn plot gallery here: [https://seaborn.pydata.org/examples/index.html](https://seaborn.pydata.org/examples/index.html).\n",
    "\n",
    "\n",
    "If you're not sure what each line is doing in the following block, try removing a line by adding a # at the beginning of that line to comment it out. This will make Python ignore the line when evaluating the block."
   ]
  },
  {
   "cell_type": "code",
   "execution_count": 23,
   "metadata": {},
   "outputs": [
    {
     "data": {
      "image/png": "[encoded data removed]",
      "text/plain": [
       "<Figure size 720x432 with 1 Axes>"
      ]
     },
     "metadata": {
      "needs_background": "light"
     },
     "output_type": "display_data"
    }
   ],
   "source": [
    "plt.figure(figsize = (10, 6))                               # Increase the plot size to 10 x 6\n",
    "sns.set(style=\"whitegrid\")                                  # Change the plot style\n",
    "sns.barplot(x = 'number', \n",
    "            y = 'art_type', \n",
    "            data = type_counts, \n",
    "            palette = 'Set2')\n",
    "plt.xlabel('')                                              # Remove the x-axis label\n",
    "plt.ylabel('')                                              # Remove the y-axis label\n",
    "plt.title('Types of Public Art in Nashville');"
   ]
  },
  {
   "cell_type": "code",
   "execution_count": null,
   "metadata": {},
   "outputs": [],
   "source": []
  }
 ],
 "metadata": {
  "kernelspec": {
   "display_name": "Python 3 (ipykernel)",
   "language": "python",
   "name": "python3"
  },
  "language_info": {
   "codemirror_mode": {
    "name": "ipython",
    "version": 3
   },
   "file_extension": ".py",
   "mimetype": "text/x-python",
   "name": "python",
   "nbconvert_exporter": "python",
   "pygments_lexer": "ipython3",
   "version": "3.9.7"
  }
 },
 "nbformat": 4,
 "nbformat_minor": 2
}
